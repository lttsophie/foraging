{
 "cells": [
  {
   "cell_type": "code",
   "execution_count": 2,
   "metadata": {},
   "outputs": [],
   "source": [
    "import pandas as pd\n",
    "from sklearn.model_selection import train_test_split\n",
    "from sklearn.datasets import make_classification\n",
    "from sklearn.ensemble import RandomForestClassifier\n",
    "from sklearn.metrics import f1_score,accuracy_score\n",
    "from sklearn.metrics import plot_confusion_matrix\n",
    "import matplotlib.pyplot as plt"
   ]
  },
  {
   "cell_type": "code",
   "execution_count": 3,
   "metadata": {},
   "outputs": [
    {
     "name": "stdout",
     "output_type": "stream",
     "text": [
      "1    4871\n",
      "0     129\n",
      "Name: 0, dtype: int64\n"
     ]
    }
   ],
   "source": [
    "X, y = make_classification(n_samples=5000,weights=[0.02, 0.98],\n",
    "                           random_state=0,n_clusters_per_class=1)\n",
    "ycount=pd.DataFrame(y)\n",
    "print(ycount[0].value_counts())\n"
   ]
  },
  {
   "cell_type": "code",
   "execution_count": 4,
   "metadata": {},
   "outputs": [],
   "source": [
    "X_train, X_test, y_train, y_test = train_test_split(X, y, test_size=0.2,random_state=42,stratify=y)"
   ]
  },
  {
   "cell_type": "code",
   "execution_count": 5,
   "metadata": {},
   "outputs": [
    {
     "name": "stdout",
     "output_type": "stream",
     "text": [
      "F1 Score is  0.9868287740628165\n",
      "Accuracy Score is  0.974\n"
     ]
    }
   ],
   "source": [
    "clf =RandomForestClassifier(max_depth=2,random_state=0).fit(X_train, y_train)\n",
    "print(\"F1 Score is \", f1_score(y_test,clf.predict(X_test)))\n",
    "print(\"Accuracy Score is \", accuracy_score(y_test,clf.predict(X_test)))"
   ]
  },
  {
   "cell_type": "code",
   "execution_count": 6,
   "metadata": {},
   "outputs": [
    {
     "data": {
      "image/png": "[encoded data removed]",
      "text/plain": [
       "<Figure size 432x288 with 2 Axes>"
      ]
     },
     "metadata": {
      "needs_background": "light"
     },
     "output_type": "display_data"
    }
   ],
   "source": [
    "fig=plot_confusion_matrix(clf, X_test, y_test)\n",
    "plt.show()"
   ]
  },
  {
   "cell_type": "code",
   "execution_count": 7,
   "metadata": {},
   "outputs": [
    {
     "name": "stdout",
     "output_type": "stream",
     "text": [
      "F1 Score for RandomForestClassifier with class_weight parameter is  0.9928057553956834\n",
      "Accuracy  Score for RandomForestClassifier with class_weight parameter is  0.986\n"
     ]
    }
   ],
   "source": [
    "weighted_clf = RandomForestClassifier(max_depth=2, random_state=0,class_weight={0:38,1:1}).fit(X_train, y_train)\n",
    "print(\"F1 Score for RandomForestClassifier with class_weight parameter is \", f1_score(y_test,weighted_clf.predict(X_test)))\n",
    "print(\"Accuracy  Score for RandomForestClassifier with class_weight parameter is \", accuracy_score(y_test,weighted_clf.predict(X_test)))"
   ]
  },
  {
   "cell_type": "code",
   "execution_count": 8,
   "metadata": {
    "scrolled": true
   },
   "outputs": [
    {
     "name": "stdout",
     "output_type": "stream",
     "text": [
      "1    3897\n",
      "0     103\n",
      "Name: 0, dtype: int64\n"
     ]
    }
   ],
   "source": [
    "ycount=pd.DataFrame(y_train)\n",
    "print(ycount[0].value_counts())"
   ]
  },
  {
   "cell_type": "code",
   "execution_count": 9,
   "metadata": {},
   "outputs": [],
   "source": [
    "from imblearn.ensemble import BalancedRandomForestClassifier"
   ]
  },
  {
   "cell_type": "code",
   "execution_count": 10,
   "metadata": {},
   "outputs": [
    {
     "name": "stdout",
     "output_type": "stream",
     "text": [
      "F1 Score for Balanced Random Forest Classifier is  0.9833852544132918\n",
      "Accuracy  Score for Balanced Random Forest Classifier is  0.968\n"
     ]
    }
   ],
   "source": [
    "brfc = BalancedRandomForestClassifier(n_estimators=500, random_state=0).fit(X_train,y_train)\n",
    "print(\"F1 Score for Balanced Random Forest Classifier is \", f1_score(y_test,brfc.predict(X_test)))\n",
    "print(\"Accuracy  Score for Balanced Random Forest Classifier is \", accuracy_score(y_test,brfc.predict(X_test)))"
   ]
  },
  {
   "cell_type": "code",
   "execution_count": 15,
   "metadata": {},
   "outputs": [],
   "source": [
    "y = brfc.predict(X_test)"
   ]
  },
  {
   "cell_type": "code",
   "execution_count": 16,
   "metadata": {},
   "outputs": [
    {
     "name": "stdout",
     "output_type": "stream",
     "text": [
      "1    952\n",
      "0     48\n",
      "Name: 0, dtype: int64\n"
     ]
    }
   ],
   "source": [
    "ycount=pd.DataFrame(y)\n",
    "print(ycount[0].value_counts())"
   ]
  },
  {
   "cell_type": "code",
   "execution_count": 17,
   "metadata": {},
   "outputs": [
    {
     "data": {
      "image/png": "[encoded data removed]",
      "text/plain": [
       "<Figure size 432x288 with 2 Axes>"
      ]
     },
     "metadata": {
      "needs_background": "light"
     },
     "output_type": "display_data"
    }
   ],
   "source": [
    "fig=plot_confusion_matrix(brfc, X_test, y_test)\n",
    "plt.show()"
   ]
  },
  {
   "cell_type": "code",
   "execution_count": null,
   "metadata": {},
   "outputs": [],
   "source": []
  }
 ],
 "metadata": {
  "kernelspec": {
   "display_name": "Python 3",
   "language": "python",
   "name": "python3"
  },
  "language_info": {
   "codemirror_mode": {
    "name": "ipython",
    "version": 3
   },
   "file_extension": ".py",
   "mimetype": "text/x-python",
   "name": "python",
   "nbconvert_exporter": "python",
   "pygments_lexer": "ipython3",
   "version": "3.8.5"
  }
 },
 "nbformat": 4,
 "nbformat_minor": 4
}
