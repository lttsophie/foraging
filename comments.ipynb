{
 "cells": [
  {
   "cell_type": "code",
   "execution_count": null,
   "metadata": {},
   "outputs": [],
   "source": [
    "%load_ext autoreload\n",
    "%autoreload 2\n",
    "\n",
    "from collections import defaultdict\n",
    "\n",
    "import numpy as np\n",
    "import pandas as pd\n",
    "import matplotlib.pyplot as plt\n",
    "import networkx as nx\n",
    "from sklearn import preprocessing\n",
    "from sklearn import metrics\n",
    "from sklearn.model_selection import train_test_split\n",
    "from sklearn.datasets import make_classification\n",
    "from sklearn.ensemble import RandomForestClassifier\n",
    "from sklearn.metrics import f1_score,accuracy_score\n",
    "from sklearn.metrics import plot_confusion_matrix\n",
    "from pgmpy.models import NaiveBayes, BayesianModel\n",
    "from pgmpy.inference import VariableElimination\n",
    "from pgmpy.estimators import BayesianEstimator\n",
    "from pgmpy.estimators import TreeSearch\n",
    "from pgmpy.estimators import ParameterEstimator\n",
    "from imblearn.ensemble import BalancedRandomForestClassifier\n",
    "from imblearn.over_sampling import RandomOverSampler\n",
    "\n",
    "from estimators import TreeAugmentedNaiveBayesSearch\n",
    "from estimators_test import TreeAugmentedNaiveBayesSearch as tan"
   ]
  },
  {
   "cell_type": "code",
   "execution_count": null,
   "metadata": {},
   "outputs": [],
   "source": [
    "# le = preprocessing.LabelEncoder()\n",
    "# for column in df_c:\n",
    "#     df_c[column] = le.fit_transform(df_c[column])"
   ]
  },
  {
   "cell_type": "code",
   "execution_count": null,
   "metadata": {},
   "outputs": [],
   "source": [
    "# mask = np.random.rand(len(df_f)) < 0.8\n",
    "# train_f = df_f[mask]\n",
    "# test_f = df_f[~mask]\n",
    "\n",
    "# print(f\"Training set shape: {train_f.shape}\")\n",
    "# print(f\"Test set shape: {test_f.shape}\")"
   ]
  },
  {
   "cell_type": "code",
   "execution_count": null,
   "metadata": {},
   "outputs": [],
   "source": [
    "# ros = RandomOverSampler(random_state=0)\n",
    "# train_f, y_res_f = ros.fit_resample(train_feat, y_train_f)\n",
    "# print(\"Number of records for X_train is \", train_feat.shape)\n",
    "# print(\"Number of records for X_resampled oversampling is \",train_f.shape)"
   ]
  },
  {
   "cell_type": "code",
   "execution_count": null,
   "metadata": {},
   "outputs": [],
   "source": [
    "# oclf = RandomForestClassifier(max_depth=2, random_state=0).fit(train_f, y_res_f)"
   ]
  },
  {
   "cell_type": "code",
   "execution_count": null,
   "metadata": {},
   "outputs": [],
   "source": [
    "# print(\"F1 Score for RandomForestClassifier with class_weight parameter is \", f1_score(y_test_f,oclf.predict(test_f)))\n",
    "# print(\"Accuracy  Score for RandomForestClassifier with class_weight parameter is \", accuracy_score(y_test_f,oclf.predict(test_f)))"
   ]
  },
  {
   "cell_type": "code",
   "execution_count": null,
   "metadata": {},
   "outputs": [],
   "source": [
    "# ros = RandomOverSampler(random_state=0)\n",
    "# train_c, y_res_c = ros.fit_resample(train_conj, y_train_c)\n",
    "# print(\"Number of records for X_train is \", train_conj.shape)\n",
    "# print(\"Number of records for X_resampled oversampling is \",train_c.shape)\n",
    "# oclf = RandomForestClassifier(max_depth=2, random_state=0).fit(train_c, y_res_c)"
   ]
  },
  {
   "cell_type": "code",
   "execution_count": null,
   "metadata": {},
   "outputs": [],
   "source": [
    "# oclf = RandomForestClassifier(max_depth=2, random_state=0).fit(train_c, y_res_c)"
   ]
  },
  {
   "cell_type": "code",
   "execution_count": null,
   "metadata": {},
   "outputs": [],
   "source": [
    "# print(\"F1 Score for RandomForestClassifier with class_weight parameter is \", f1_score(y_test_c,oclf.predict(test_c)))\n",
    "# print(\"Accuracy  Score for RandomForestClassifier with class_weight parameter is \", accuracy_score(y_test_c,oclf.predict(test_c)))"
   ]
  },
  {
   "cell_type": "code",
   "execution_count": null,
   "metadata": {},
   "outputs": [],
   "source": [
    "# mask = np.random.rand(len(df_c)) < 0.8\n",
    "# train_c = df_c[mask]\n",
    "# test_c = df_c[~mask]\n",
    "# print(f\"train_cing set shape: {train_c.shape}\")\n",
    "# print(f\"test_c set shape: {test_c.shape}\")"
   ]
  },
  {
   "cell_type": "code",
   "execution_count": null,
   "metadata": {},
   "outputs": [],
   "source": [
    "# test_no_target_c = test_c.copy().drop(target_variable_c, axis=1).reset_index()"
   ]
  },
  {
   "cell_type": "code",
   "execution_count": null,
   "metadata": {},
   "outputs": [],
   "source": [
    "state_names_f = {name: list(column.unique()) for name, column in df_f.iteritems()}\n",
    "state_names_c = {name: list(column.unique()) for name, column in df_c.iteritems()}"
   ]
  },
  {
   "cell_type": "code",
   "execution_count": null,
   "metadata": {},
   "outputs": [],
   "source": [
    "# tan_model_f.fit(train_f, state_names = state_names_f, estimator=BayesianEstimator, prior_type=\"BDeu\") # default equivalent_sample_size=5"
   ]
  },
  {
   "cell_type": "code",
   "execution_count": null,
   "metadata": {},
   "outputs": [],
   "source": [
    "# tan_model_f.get_cpds()"
   ]
  },
  {
   "cell_type": "code",
   "execution_count": null,
   "metadata": {},
   "outputs": [],
   "source": [
    "# e = tan_model_f.edges()\n",
    "# e = list(e)\n",
    "# w = tan_estimator.weights()\n",
    "# weights = []\n",
    "# for i in range(0, len(w)):\n",
    "#     for j in range(0, len(e)):\n",
    "#         if w[i][0] == e[j]:\n",
    "#             a = (w[i][0][0], w[i][0][1], w[i][1])\n",
    "#             weights.append(a)"
   ]
  },
  {
   "cell_type": "code",
   "execution_count": null,
   "metadata": {},
   "outputs": [],
   "source": [
    "# for i in range(0, len(weights)):\n",
    "#     tan_model_f[weights[i][0]][weights[i][1]]['weight'] = weights[i][2]"
   ]
  },
  {
   "cell_type": "code",
   "execution_count": null,
   "metadata": {},
   "outputs": [],
   "source": [
    "# tan_cpds = tan_model_f.get_cpds()\n",
    "# if not tan_model_f.check_model():\n",
    "#     print('The TAN model has errors.')\n",
    "# else:\n",
    "#     print('The TAN model has no errors.')"
   ]
  },
  {
   "cell_type": "code",
   "execution_count": null,
   "metadata": {},
   "outputs": [],
   "source": [
    "# tan_inference = VariableElimination(tan_model_f)"
   ]
  },
  {
   "cell_type": "code",
   "execution_count": null,
   "metadata": {},
   "outputs": [],
   "source": [
    "# test = test_f.copy()\n",
    "# test.drop('switches', axis=1, inplace=True)\n",
    "# switches_pred_f = tan_model.predict(test)\n",
    "# switches_pred_f"
   ]
  },
  {
   "cell_type": "code",
   "execution_count": null,
   "metadata": {},
   "outputs": [],
   "source": [
    "# print(switches_pred_f.value_counts(normalize=True))"
   ]
  },
  {
   "cell_type": "code",
   "execution_count": null,
   "metadata": {},
   "outputs": [],
   "source": [
    "# tan_estimator = TreeAugmentedNaiveBayesSearch(data=df_f, class_node=target_variable_f)\n",
    "# tan_structure_f = tan_estimator.estimate()\n",
    "# tan_model_f = BayesianModel(tan_structure_f.edges)\n",
    "# nx.draw_circular(tan_model_f, with_labels=True, arrowsize=20, node_size=2000, font_size=10, alpha=0.8)\n",
    "# plt.show()"
   ]
  },
  {
   "cell_type": "code",
   "execution_count": null,
   "metadata": {},
   "outputs": [],
   "source": [
    "# tan_estimator = TreeAugmentedNaiveBayesSearch(data=df_c, class_node=target_variable_c)\n",
    "# tan_structure = tan_estimator.estimate()\n",
    "# tan_model = BayesianModel(tan_structure.edges)\n",
    "# nx.draw_circular(tan_model, with_labels=True, arrowsize=20, node_size=1000, font_size=10, alpha=0.8)\n",
    "# plt.show()"
   ]
  },
  {
   "cell_type": "code",
   "execution_count": null,
   "metadata": {},
   "outputs": [],
   "source": []
  },
  {
   "cell_type": "code",
   "execution_count": null,
   "metadata": {},
   "outputs": [],
   "source": []
  },
  {
   "cell_type": "code",
   "execution_count": null,
   "metadata": {},
   "outputs": [],
   "source": []
  }
 ],
 "metadata": {
  "kernelspec": {
   "display_name": "Python 3",
   "language": "python",
   "name": "python3"
  },
  "language_info": {
   "codemirror_mode": {
    "name": "ipython",
    "version": 3
   },
   "file_extension": ".py",
   "mimetype": "text/x-python",
   "name": "python",
   "nbconvert_exporter": "python",
   "pygments_lexer": "ipython3",
   "version": "3.8.5"
  }
 },
 "nbformat": 4,
 "nbformat_minor": 4
}
