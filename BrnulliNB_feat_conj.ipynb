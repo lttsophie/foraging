{
 "cells": [
  {
   "cell_type": "code",
   "execution_count": 1,
   "metadata": {},
   "outputs": [],
   "source": [
    "from collections import defaultdict\n",
    "import numpy as np\n",
    "import pandas as pd\n",
    "import matplotlib.pyplot as plt\n",
    "import classeval\n",
    "from sklearn import preprocessing\n",
    "from sklearn import metrics\n",
    "from sklearn.model_selection import train_test_split\n",
    "from sklearn.datasets import make_classification\n",
    "from sklearn.ensemble import RandomForestClassifier\n",
    "from sklearn.metrics import f1_score,accuracy_score\n",
    "from sklearn.metrics import plot_confusion_matrix\n",
    "from sklearn.model_selection import cross_val_score\n",
    "from sklearn.model_selection import KFold\n",
    "from imblearn.over_sampling import RandomOverSampler"
   ]
  },
  {
   "cell_type": "markdown",
   "metadata": {},
   "source": [
    "# Data reading"
   ]
  },
  {
   "cell_type": "code",
   "execution_count": 2,
   "metadata": {},
   "outputs": [
    {
     "data": {
      "text/html": [
       "<div>\n",
       "<style scoped>\n",
       "    .dataframe tbody tr th:only-of-type {\n",
       "        vertical-align: middle;\n",
       "    }\n",
       "\n",
       "    .dataframe tbody tr th {\n",
       "        vertical-align: top;\n",
       "    }\n",
       "\n",
       "    .dataframe thead th {\n",
       "        text-align: right;\n",
       "    }\n",
       "</style>\n",
       "<table border=\"1\" class=\"dataframe\">\n",
       "  <thead>\n",
       "    <tr style=\"text-align: right;\">\n",
       "      <th></th>\n",
       "      <th>participantN</th>\n",
       "      <th>age</th>\n",
       "      <th>gender</th>\n",
       "      <th>trialN</th>\n",
       "      <th>task</th>\n",
       "      <th>condition</th>\n",
       "      <th>FeatConj</th>\n",
       "      <th>setSize</th>\n",
       "      <th>proportion</th>\n",
       "      <th>timelimit</th>\n",
       "      <th>...</th>\n",
       "      <th>group_same</th>\n",
       "      <th>group_switch</th>\n",
       "      <th>strict_line</th>\n",
       "      <th>blocked_grouped</th>\n",
       "      <th>ratio</th>\n",
       "      <th>run_length</th>\n",
       "      <th>cl_same</th>\n",
       "      <th>cl_other</th>\n",
       "      <th>cl_blue</th>\n",
       "      <th>cl_yellow</th>\n",
       "    </tr>\n",
       "  </thead>\n",
       "  <tbody>\n",
       "    <tr>\n",
       "      <th>0</th>\n",
       "      <td>1</td>\n",
       "      <td>0</td>\n",
       "      <td></td>\n",
       "      <td>1</td>\n",
       "      <td>0</td>\n",
       "      <td>r/g</td>\n",
       "      <td>0</td>\n",
       "      <td>80</td>\n",
       "      <td>50</td>\n",
       "      <td>0.0</td>\n",
       "      <td>...</td>\n",
       "      <td>0</td>\n",
       "      <td>0</td>\n",
       "      <td>0</td>\n",
       "      <td>0</td>\n",
       "      <td>-0.043466</td>\n",
       "      <td>0.0</td>\n",
       "      <td>46.307892</td>\n",
       "      <td>130.180474</td>\n",
       "      <td>95.377290</td>\n",
       "      <td>123.727589</td>\n",
       "    </tr>\n",
       "    <tr>\n",
       "      <th>1</th>\n",
       "      <td>1</td>\n",
       "      <td>0</td>\n",
       "      <td></td>\n",
       "      <td>1</td>\n",
       "      <td>0</td>\n",
       "      <td>r/g</td>\n",
       "      <td>0</td>\n",
       "      <td>80</td>\n",
       "      <td>50</td>\n",
       "      <td>0.0</td>\n",
       "      <td>...</td>\n",
       "      <td>0</td>\n",
       "      <td>0</td>\n",
       "      <td>1</td>\n",
       "      <td>0</td>\n",
       "      <td>-0.066947</td>\n",
       "      <td>1.0</td>\n",
       "      <td>126.127896</td>\n",
       "      <td>67.599712</td>\n",
       "      <td>65.038921</td>\n",
       "      <td>146.307241</td>\n",
       "    </tr>\n",
       "    <tr>\n",
       "      <th>2</th>\n",
       "      <td>1</td>\n",
       "      <td>0</td>\n",
       "      <td></td>\n",
       "      <td>1</td>\n",
       "      <td>0</td>\n",
       "      <td>r/g</td>\n",
       "      <td>0</td>\n",
       "      <td>80</td>\n",
       "      <td>50</td>\n",
       "      <td>0.0</td>\n",
       "      <td>...</td>\n",
       "      <td>0</td>\n",
       "      <td>0</td>\n",
       "      <td>0</td>\n",
       "      <td>0</td>\n",
       "      <td>0.066947</td>\n",
       "      <td>2.0</td>\n",
       "      <td>128.727980</td>\n",
       "      <td>92.588600</td>\n",
       "      <td>51.182460</td>\n",
       "      <td>197.918981</td>\n",
       "    </tr>\n",
       "    <tr>\n",
       "      <th>3</th>\n",
       "      <td>1</td>\n",
       "      <td>0</td>\n",
       "      <td></td>\n",
       "      <td>1</td>\n",
       "      <td>0</td>\n",
       "      <td>r/g</td>\n",
       "      <td>0</td>\n",
       "      <td>80</td>\n",
       "      <td>50</td>\n",
       "      <td>0.0</td>\n",
       "      <td>...</td>\n",
       "      <td>0</td>\n",
       "      <td>0</td>\n",
       "      <td>0</td>\n",
       "      <td>0</td>\n",
       "      <td>0.045757</td>\n",
       "      <td>0.0</td>\n",
       "      <td>128.727980</td>\n",
       "      <td>50.406248</td>\n",
       "      <td>100.312921</td>\n",
       "      <td>96.387240</td>\n",
       "    </tr>\n",
       "    <tr>\n",
       "      <th>4</th>\n",
       "      <td>1</td>\n",
       "      <td>0</td>\n",
       "      <td></td>\n",
       "      <td>1</td>\n",
       "      <td>0</td>\n",
       "      <td>r/g</td>\n",
       "      <td>0</td>\n",
       "      <td>80</td>\n",
       "      <td>50</td>\n",
       "      <td>0.0</td>\n",
       "      <td>...</td>\n",
       "      <td>0</td>\n",
       "      <td>0</td>\n",
       "      <td>1</td>\n",
       "      <td>0</td>\n",
       "      <td>-0.048305</td>\n",
       "      <td>1.0</td>\n",
       "      <td>236.606173</td>\n",
       "      <td>50.406248</td>\n",
       "      <td>115.722899</td>\n",
       "      <td>70.010926</td>\n",
       "    </tr>\n",
       "  </tbody>\n",
       "</table>\n",
       "<p>5 rows × 43 columns</p>\n",
       "</div>"
      ],
      "text/plain": [
       "   participantN  age gender  trialN  task condition  FeatConj  setSize  \\\n",
       "0             1    0              1     0      r/g          0       80   \n",
       "1             1    0              1     0      r/g          0       80   \n",
       "2             1    0              1     0      r/g          0       80   \n",
       "3             1    0              1     0      r/g          0       80   \n",
       "4             1    0              1     0      r/g          0       80   \n",
       "\n",
       "   proportion  timelimit  ... group_same group_switch  strict_line  \\\n",
       "0          50        0.0  ...          0            0            0   \n",
       "1          50        0.0  ...          0            0            1   \n",
       "2          50        0.0  ...          0            0            0   \n",
       "3          50        0.0  ...          0            0            0   \n",
       "4          50        0.0  ...          0            0            1   \n",
       "\n",
       "   blocked_grouped     ratio  run_length     cl_same    cl_other     cl_blue  \\\n",
       "0                0 -0.043466         0.0   46.307892  130.180474   95.377290   \n",
       "1                0 -0.066947         1.0  126.127896   67.599712   65.038921   \n",
       "2                0  0.066947         2.0  128.727980   92.588600   51.182460   \n",
       "3                0  0.045757         0.0  128.727980   50.406248  100.312921   \n",
       "4                0 -0.048305         1.0  236.606173   50.406248  115.722899   \n",
       "\n",
       "    cl_yellow  \n",
       "0  123.727589  \n",
       "1  146.307241  \n",
       "2  197.918981  \n",
       "3   96.387240  \n",
       "4   70.010926  \n",
       "\n",
       "[5 rows x 43 columns]"
      ]
     },
     "execution_count": 2,
     "metadata": {},
     "output_type": "execute_result"
    }
   ],
   "source": [
    "df_f = pd.read_csv('feat.csv', na_values=[' ?'], error_bad_lines=False)\n",
    "df_f.head()"
   ]
  },
  {
   "cell_type": "code",
   "execution_count": 3,
   "metadata": {
    "scrolled": true
   },
   "outputs": [
    {
     "data": {
      "text/html": [
       "<div>\n",
       "<style scoped>\n",
       "    .dataframe tbody tr th:only-of-type {\n",
       "        vertical-align: middle;\n",
       "    }\n",
       "\n",
       "    .dataframe tbody tr th {\n",
       "        vertical-align: top;\n",
       "    }\n",
       "\n",
       "    .dataframe thead th {\n",
       "        text-align: right;\n",
       "    }\n",
       "</style>\n",
       "<table border=\"1\" class=\"dataframe\">\n",
       "  <thead>\n",
       "    <tr style=\"text-align: right;\">\n",
       "      <th></th>\n",
       "      <th>participantN</th>\n",
       "      <th>age</th>\n",
       "      <th>gender</th>\n",
       "      <th>trialN</th>\n",
       "      <th>task</th>\n",
       "      <th>condition</th>\n",
       "      <th>FeatConj</th>\n",
       "      <th>setSize</th>\n",
       "      <th>proportion</th>\n",
       "      <th>timelimit</th>\n",
       "      <th>...</th>\n",
       "      <th>grouping_same</th>\n",
       "      <th>grouping_switch</th>\n",
       "      <th>strict_line</th>\n",
       "      <th>blocked_grouped</th>\n",
       "      <th>ratio</th>\n",
       "      <th>run_length</th>\n",
       "      <th>cl_same</th>\n",
       "      <th>cl_other</th>\n",
       "      <th>cl_same_color</th>\n",
       "      <th>cl_same_shape</th>\n",
       "    </tr>\n",
       "  </thead>\n",
       "  <tbody>\n",
       "    <tr>\n",
       "      <th>0</th>\n",
       "      <td>1</td>\n",
       "      <td>0</td>\n",
       "      <td></td>\n",
       "      <td>0</td>\n",
       "      <td>0</td>\n",
       "      <td>rs/gd</td>\n",
       "      <td>1</td>\n",
       "      <td>80</td>\n",
       "      <td>50</td>\n",
       "      <td>0.0</td>\n",
       "      <td>...</td>\n",
       "      <td>0</td>\n",
       "      <td>0</td>\n",
       "      <td>0</td>\n",
       "      <td>0</td>\n",
       "      <td>-0.043466</td>\n",
       "      <td>0.0</td>\n",
       "      <td>72.458664</td>\n",
       "      <td>120.597315</td>\n",
       "      <td>173.653234</td>\n",
       "      <td>44.679822</td>\n",
       "    </tr>\n",
       "    <tr>\n",
       "      <th>1</th>\n",
       "      <td>1</td>\n",
       "      <td>0</td>\n",
       "      <td></td>\n",
       "      <td>0</td>\n",
       "      <td>0</td>\n",
       "      <td>rs/gd</td>\n",
       "      <td>1</td>\n",
       "      <td>80</td>\n",
       "      <td>50</td>\n",
       "      <td>0.0</td>\n",
       "      <td>...</td>\n",
       "      <td>0</td>\n",
       "      <td>0</td>\n",
       "      <td>0</td>\n",
       "      <td>0</td>\n",
       "      <td>-0.066947</td>\n",
       "      <td>1.0</td>\n",
       "      <td>72.458664</td>\n",
       "      <td>182.400411</td>\n",
       "      <td>234.405408</td>\n",
       "      <td>83.775601</td>\n",
       "    </tr>\n",
       "    <tr>\n",
       "      <th>2</th>\n",
       "      <td>1</td>\n",
       "      <td>0</td>\n",
       "      <td></td>\n",
       "      <td>0</td>\n",
       "      <td>0</td>\n",
       "      <td>rs/gd</td>\n",
       "      <td>1</td>\n",
       "      <td>80</td>\n",
       "      <td>50</td>\n",
       "      <td>0.0</td>\n",
       "      <td>...</td>\n",
       "      <td>0</td>\n",
       "      <td>0</td>\n",
       "      <td>0</td>\n",
       "      <td>0</td>\n",
       "      <td>-0.091770</td>\n",
       "      <td>2.0</td>\n",
       "      <td>73.795082</td>\n",
       "      <td>76.746862</td>\n",
       "      <td>82.512947</td>\n",
       "      <td>105.839343</td>\n",
       "    </tr>\n",
       "    <tr>\n",
       "      <th>3</th>\n",
       "      <td>1</td>\n",
       "      <td>0</td>\n",
       "      <td></td>\n",
       "      <td>0</td>\n",
       "      <td>0</td>\n",
       "      <td>rs/gd</td>\n",
       "      <td>1</td>\n",
       "      <td>80</td>\n",
       "      <td>50</td>\n",
       "      <td>0.0</td>\n",
       "      <td>...</td>\n",
       "      <td>0</td>\n",
       "      <td>0</td>\n",
       "      <td>0</td>\n",
       "      <td>0</td>\n",
       "      <td>-0.118099</td>\n",
       "      <td>3.0</td>\n",
       "      <td>73.795082</td>\n",
       "      <td>103.951828</td>\n",
       "      <td>148.780161</td>\n",
       "      <td>58.197959</td>\n",
       "    </tr>\n",
       "    <tr>\n",
       "      <th>4</th>\n",
       "      <td>1</td>\n",
       "      <td>0</td>\n",
       "      <td></td>\n",
       "      <td>0</td>\n",
       "      <td>0</td>\n",
       "      <td>rs/gd</td>\n",
       "      <td>1</td>\n",
       "      <td>80</td>\n",
       "      <td>50</td>\n",
       "      <td>0.0</td>\n",
       "      <td>...</td>\n",
       "      <td>0</td>\n",
       "      <td>0</td>\n",
       "      <td>0</td>\n",
       "      <td>0</td>\n",
       "      <td>-0.146128</td>\n",
       "      <td>4.0</td>\n",
       "      <td>73.427475</td>\n",
       "      <td>111.076559</td>\n",
       "      <td>194.010000</td>\n",
       "      <td>142.506925</td>\n",
       "    </tr>\n",
       "  </tbody>\n",
       "</table>\n",
       "<p>5 rows × 43 columns</p>\n",
       "</div>"
      ],
      "text/plain": [
       "   participantN  age gender  trialN  task condition  FeatConj  setSize  \\\n",
       "0             1    0              0     0    rs/gd          1       80   \n",
       "1             1    0              0     0    rs/gd          1       80   \n",
       "2             1    0              0     0    rs/gd          1       80   \n",
       "3             1    0              0     0    rs/gd          1       80   \n",
       "4             1    0              0     0    rs/gd          1       80   \n",
       "\n",
       "   proportion  timelimit  ... grouping_same grouping_switch  strict_line  \\\n",
       "0          50        0.0  ...             0               0            0   \n",
       "1          50        0.0  ...             0               0            0   \n",
       "2          50        0.0  ...             0               0            0   \n",
       "3          50        0.0  ...             0               0            0   \n",
       "4          50        0.0  ...             0               0            0   \n",
       "\n",
       "   blocked_grouped     ratio  run_length    cl_same    cl_other  \\\n",
       "0                0 -0.043466         0.0  72.458664  120.597315   \n",
       "1                0 -0.066947         1.0  72.458664  182.400411   \n",
       "2                0 -0.091770         2.0  73.795082   76.746862   \n",
       "3                0 -0.118099         3.0  73.795082  103.951828   \n",
       "4                0 -0.146128         4.0  73.427475  111.076559   \n",
       "\n",
       "   cl_same_color  cl_same_shape  \n",
       "0     173.653234      44.679822  \n",
       "1     234.405408      83.775601  \n",
       "2      82.512947     105.839343  \n",
       "3     148.780161      58.197959  \n",
       "4     194.010000     142.506925  \n",
       "\n",
       "[5 rows x 43 columns]"
      ]
     },
     "execution_count": 3,
     "metadata": {},
     "output_type": "execute_result"
    }
   ],
   "source": [
    "df_c = pd.read_csv('conj.csv', na_values=[' ?'])\n",
    "df_c.head()"
   ]
  },
  {
   "cell_type": "code",
   "execution_count": 4,
   "metadata": {},
   "outputs": [
    {
     "data": {
      "text/html": [
       "<div>\n",
       "<style scoped>\n",
       "    .dataframe tbody tr th:only-of-type {\n",
       "        vertical-align: middle;\n",
       "    }\n",
       "\n",
       "    .dataframe tbody tr th {\n",
       "        vertical-align: top;\n",
       "    }\n",
       "\n",
       "    .dataframe thead th {\n",
       "        text-align: right;\n",
       "    }\n",
       "</style>\n",
       "<table border=\"1\" class=\"dataframe\">\n",
       "  <thead>\n",
       "    <tr style=\"text-align: right;\">\n",
       "      <th></th>\n",
       "      <th>participantN</th>\n",
       "      <th>age</th>\n",
       "      <th>trialN</th>\n",
       "      <th>task</th>\n",
       "      <th>FeatConj</th>\n",
       "      <th>setSize</th>\n",
       "      <th>proportion</th>\n",
       "      <th>timelimit</th>\n",
       "      <th>timeTS</th>\n",
       "      <th>timeRel</th>\n",
       "      <th>...</th>\n",
       "      <th>group_same</th>\n",
       "      <th>group_switch</th>\n",
       "      <th>strict_line</th>\n",
       "      <th>blocked_grouped</th>\n",
       "      <th>ratio</th>\n",
       "      <th>run_length</th>\n",
       "      <th>cl_same</th>\n",
       "      <th>cl_other</th>\n",
       "      <th>cl_blue</th>\n",
       "      <th>cl_yellow</th>\n",
       "    </tr>\n",
       "  </thead>\n",
       "  <tbody>\n",
       "    <tr>\n",
       "      <th>count</th>\n",
       "      <td>12870.000000</td>\n",
       "      <td>12870.000000</td>\n",
       "      <td>12870.000000</td>\n",
       "      <td>12870.0</td>\n",
       "      <td>12870.0</td>\n",
       "      <td>12870.0</td>\n",
       "      <td>12870.0</td>\n",
       "      <td>12870.0</td>\n",
       "      <td>12870.000000</td>\n",
       "      <td>12870.000000</td>\n",
       "      <td>...</td>\n",
       "      <td>12870.000000</td>\n",
       "      <td>12870.000000</td>\n",
       "      <td>12870.000000</td>\n",
       "      <td>12870.0</td>\n",
       "      <td>12870.000000</td>\n",
       "      <td>12870.000000</td>\n",
       "      <td>12870.000000</td>\n",
       "      <td>12870.000000</td>\n",
       "      <td>12870.000000</td>\n",
       "      <td>12870.000000</td>\n",
       "    </tr>\n",
       "    <tr>\n",
       "      <th>mean</th>\n",
       "      <td>56.424242</td>\n",
       "      <td>1.454545</td>\n",
       "      <td>5.027273</td>\n",
       "      <td>0.0</td>\n",
       "      <td>0.0</td>\n",
       "      <td>80.0</td>\n",
       "      <td>50.0</td>\n",
       "      <td>0.0</td>\n",
       "      <td>9677.775236</td>\n",
       "      <td>361.257980</td>\n",
       "      <td>...</td>\n",
       "      <td>1.326496</td>\n",
       "      <td>1.037451</td>\n",
       "      <td>0.044911</td>\n",
       "      <td>0.0</td>\n",
       "      <td>0.064201</td>\n",
       "      <td>2.691531</td>\n",
       "      <td>105.528243</td>\n",
       "      <td>98.016011</td>\n",
       "      <td>99.374017</td>\n",
       "      <td>98.937248</td>\n",
       "    </tr>\n",
       "    <tr>\n",
       "      <th>std</th>\n",
       "      <td>57.187211</td>\n",
       "      <td>5.774204</td>\n",
       "      <td>3.206536</td>\n",
       "      <td>0.0</td>\n",
       "      <td>0.0</td>\n",
       "      <td>0.0</td>\n",
       "      <td>0.0</td>\n",
       "      <td>0.0</td>\n",
       "      <td>8359.550436</td>\n",
       "      <td>408.490427</td>\n",
       "      <td>...</td>\n",
       "      <td>1.546946</td>\n",
       "      <td>1.306479</td>\n",
       "      <td>0.207116</td>\n",
       "      <td>0.0</td>\n",
       "      <td>0.363407</td>\n",
       "      <td>3.956121</td>\n",
       "      <td>44.740377</td>\n",
       "      <td>38.912214</td>\n",
       "      <td>40.410164</td>\n",
       "      <td>39.506846</td>\n",
       "    </tr>\n",
       "    <tr>\n",
       "      <th>min</th>\n",
       "      <td>1.000000</td>\n",
       "      <td>0.000000</td>\n",
       "      <td>0.000000</td>\n",
       "      <td>0.0</td>\n",
       "      <td>0.0</td>\n",
       "      <td>80.0</td>\n",
       "      <td>50.0</td>\n",
       "      <td>0.0</td>\n",
       "      <td>660.183458</td>\n",
       "      <td>99.307000</td>\n",
       "      <td>...</td>\n",
       "      <td>0.000000</td>\n",
       "      <td>0.000000</td>\n",
       "      <td>0.000000</td>\n",
       "      <td>0.0</td>\n",
       "      <td>-1.322219</td>\n",
       "      <td>0.000000</td>\n",
       "      <td>7.641217</td>\n",
       "      <td>4.293483</td>\n",
       "      <td>5.877933</td>\n",
       "      <td>9.577233</td>\n",
       "    </tr>\n",
       "    <tr>\n",
       "      <th>25%</th>\n",
       "      <td>9.000000</td>\n",
       "      <td>0.000000</td>\n",
       "      <td>2.000000</td>\n",
       "      <td>0.0</td>\n",
       "      <td>0.0</td>\n",
       "      <td>80.0</td>\n",
       "      <td>50.0</td>\n",
       "      <td>0.0</td>\n",
       "      <td>4709.145292</td>\n",
       "      <td>249.302979</td>\n",
       "      <td>...</td>\n",
       "      <td>0.000000</td>\n",
       "      <td>0.000000</td>\n",
       "      <td>0.000000</td>\n",
       "      <td>0.0</td>\n",
       "      <td>-0.091770</td>\n",
       "      <td>0.000000</td>\n",
       "      <td>73.970992</td>\n",
       "      <td>71.149950</td>\n",
       "      <td>71.827454</td>\n",
       "      <td>71.957130</td>\n",
       "    </tr>\n",
       "    <tr>\n",
       "      <th>50%</th>\n",
       "      <td>17.000000</td>\n",
       "      <td>0.000000</td>\n",
       "      <td>5.000000</td>\n",
       "      <td>0.0</td>\n",
       "      <td>0.0</td>\n",
       "      <td>80.0</td>\n",
       "      <td>50.0</td>\n",
       "      <td>0.0</td>\n",
       "      <td>8408.941917</td>\n",
       "      <td>316.416271</td>\n",
       "      <td>...</td>\n",
       "      <td>0.000000</td>\n",
       "      <td>0.000000</td>\n",
       "      <td>0.000000</td>\n",
       "      <td>0.0</td>\n",
       "      <td>0.000000</td>\n",
       "      <td>1.000000</td>\n",
       "      <td>94.645416</td>\n",
       "      <td>89.083073</td>\n",
       "      <td>90.015061</td>\n",
       "      <td>89.791998</td>\n",
       "    </tr>\n",
       "    <tr>\n",
       "      <th>75%</th>\n",
       "      <td>125.000000</td>\n",
       "      <td>0.000000</td>\n",
       "      <td>8.000000</td>\n",
       "      <td>0.0</td>\n",
       "      <td>0.0</td>\n",
       "      <td>80.0</td>\n",
       "      <td>50.0</td>\n",
       "      <td>0.0</td>\n",
       "      <td>12309.683667</td>\n",
       "      <td>416.761729</td>\n",
       "      <td>...</td>\n",
       "      <td>3.000000</td>\n",
       "      <td>2.000000</td>\n",
       "      <td>0.000000</td>\n",
       "      <td>0.0</td>\n",
       "      <td>0.134699</td>\n",
       "      <td>3.000000</td>\n",
       "      <td>127.339915</td>\n",
       "      <td>115.658873</td>\n",
       "      <td>117.181983</td>\n",
       "      <td>115.636209</td>\n",
       "    </tr>\n",
       "    <tr>\n",
       "      <th>max</th>\n",
       "      <td>133.000000</td>\n",
       "      <td>27.000000</td>\n",
       "      <td>14.000000</td>\n",
       "      <td>0.0</td>\n",
       "      <td>0.0</td>\n",
       "      <td>80.0</td>\n",
       "      <td>50.0</td>\n",
       "      <td>0.0</td>\n",
       "      <td>82793.777083</td>\n",
       "      <td>40668.799167</td>\n",
       "      <td>...</td>\n",
       "      <td>7.000000</td>\n",
       "      <td>7.000000</td>\n",
       "      <td>1.000000</td>\n",
       "      <td>0.0</td>\n",
       "      <td>1.322219</td>\n",
       "      <td>19.000000</td>\n",
       "      <td>377.035174</td>\n",
       "      <td>336.753693</td>\n",
       "      <td>393.269275</td>\n",
       "      <td>374.578924</td>\n",
       "    </tr>\n",
       "  </tbody>\n",
       "</table>\n",
       "<p>8 rows × 37 columns</p>\n",
       "</div>"
      ],
      "text/plain": [
       "       participantN           age        trialN     task  FeatConj  setSize  \\\n",
       "count  12870.000000  12870.000000  12870.000000  12870.0   12870.0  12870.0   \n",
       "mean      56.424242      1.454545      5.027273      0.0       0.0     80.0   \n",
       "std       57.187211      5.774204      3.206536      0.0       0.0      0.0   \n",
       "min        1.000000      0.000000      0.000000      0.0       0.0     80.0   \n",
       "25%        9.000000      0.000000      2.000000      0.0       0.0     80.0   \n",
       "50%       17.000000      0.000000      5.000000      0.0       0.0     80.0   \n",
       "75%      125.000000      0.000000      8.000000      0.0       0.0     80.0   \n",
       "max      133.000000     27.000000     14.000000      0.0       0.0     80.0   \n",
       "\n",
       "       proportion  timelimit        timeTS       timeRel  ...    group_same  \\\n",
       "count     12870.0    12870.0  12870.000000  12870.000000  ...  12870.000000   \n",
       "mean         50.0        0.0   9677.775236    361.257980  ...      1.326496   \n",
       "std           0.0        0.0   8359.550436    408.490427  ...      1.546946   \n",
       "min          50.0        0.0    660.183458     99.307000  ...      0.000000   \n",
       "25%          50.0        0.0   4709.145292    249.302979  ...      0.000000   \n",
       "50%          50.0        0.0   8408.941917    316.416271  ...      0.000000   \n",
       "75%          50.0        0.0  12309.683667    416.761729  ...      3.000000   \n",
       "max          50.0        0.0  82793.777083  40668.799167  ...      7.000000   \n",
       "\n",
       "       group_switch   strict_line  blocked_grouped         ratio  \\\n",
       "count  12870.000000  12870.000000          12870.0  12870.000000   \n",
       "mean       1.037451      0.044911              0.0      0.064201   \n",
       "std        1.306479      0.207116              0.0      0.363407   \n",
       "min        0.000000      0.000000              0.0     -1.322219   \n",
       "25%        0.000000      0.000000              0.0     -0.091770   \n",
       "50%        0.000000      0.000000              0.0      0.000000   \n",
       "75%        2.000000      0.000000              0.0      0.134699   \n",
       "max        7.000000      1.000000              0.0      1.322219   \n",
       "\n",
       "         run_length       cl_same      cl_other       cl_blue     cl_yellow  \n",
       "count  12870.000000  12870.000000  12870.000000  12870.000000  12870.000000  \n",
       "mean       2.691531    105.528243     98.016011     99.374017     98.937248  \n",
       "std        3.956121     44.740377     38.912214     40.410164     39.506846  \n",
       "min        0.000000      7.641217      4.293483      5.877933      9.577233  \n",
       "25%        0.000000     73.970992     71.149950     71.827454     71.957130  \n",
       "50%        1.000000     94.645416     89.083073     90.015061     89.791998  \n",
       "75%        3.000000    127.339915    115.658873    117.181983    115.636209  \n",
       "max       19.000000    377.035174    336.753693    393.269275    374.578924  \n",
       "\n",
       "[8 rows x 37 columns]"
      ]
     },
     "execution_count": 4,
     "metadata": {},
     "output_type": "execute_result"
    }
   ],
   "source": [
    "df_f.describe()"
   ]
  },
  {
   "cell_type": "code",
   "execution_count": 5,
   "metadata": {
    "scrolled": true
   },
   "outputs": [
    {
     "data": {
      "text/html": [
       "<div>\n",
       "<style scoped>\n",
       "    .dataframe tbody tr th:only-of-type {\n",
       "        vertical-align: middle;\n",
       "    }\n",
       "\n",
       "    .dataframe tbody tr th {\n",
       "        vertical-align: top;\n",
       "    }\n",
       "\n",
       "    .dataframe thead th {\n",
       "        text-align: right;\n",
       "    }\n",
       "</style>\n",
       "<table border=\"1\" class=\"dataframe\">\n",
       "  <thead>\n",
       "    <tr style=\"text-align: right;\">\n",
       "      <th></th>\n",
       "      <th>participantN</th>\n",
       "      <th>age</th>\n",
       "      <th>trialN</th>\n",
       "      <th>task</th>\n",
       "      <th>FeatConj</th>\n",
       "      <th>setSize</th>\n",
       "      <th>proportion</th>\n",
       "      <th>timelimit</th>\n",
       "      <th>timeTS</th>\n",
       "      <th>timeRel</th>\n",
       "      <th>...</th>\n",
       "      <th>grouping_same</th>\n",
       "      <th>grouping_switch</th>\n",
       "      <th>strict_line</th>\n",
       "      <th>blocked_grouped</th>\n",
       "      <th>ratio</th>\n",
       "      <th>run_length</th>\n",
       "      <th>cl_same</th>\n",
       "      <th>cl_other</th>\n",
       "      <th>cl_same_color</th>\n",
       "      <th>cl_same_shape</th>\n",
       "    </tr>\n",
       "  </thead>\n",
       "  <tbody>\n",
       "    <tr>\n",
       "      <th>count</th>\n",
       "      <td>12831.000000</td>\n",
       "      <td>12831.000000</td>\n",
       "      <td>12831.000000</td>\n",
       "      <td>12831.0</td>\n",
       "      <td>12831.0</td>\n",
       "      <td>12831.0</td>\n",
       "      <td>12831.0</td>\n",
       "      <td>12831.0</td>\n",
       "      <td>12831.000000</td>\n",
       "      <td>12831.000000</td>\n",
       "      <td>...</td>\n",
       "      <td>12831.000000</td>\n",
       "      <td>12831.000000</td>\n",
       "      <td>12831.000000</td>\n",
       "      <td>12831.0</td>\n",
       "      <td>12831.000000</td>\n",
       "      <td>12831.000000</td>\n",
       "      <td>12831.000000</td>\n",
       "      <td>12831.000000</td>\n",
       "      <td>12831.000000</td>\n",
       "      <td>12831.000000</td>\n",
       "    </tr>\n",
       "    <tr>\n",
       "      <th>mean</th>\n",
       "      <td>56.537994</td>\n",
       "      <td>1.458967</td>\n",
       "      <td>5.911854</td>\n",
       "      <td>0.0</td>\n",
       "      <td>1.0</td>\n",
       "      <td>80.0</td>\n",
       "      <td>50.0</td>\n",
       "      <td>0.0</td>\n",
       "      <td>11298.114532</td>\n",
       "      <td>466.628504</td>\n",
       "      <td>...</td>\n",
       "      <td>1.305978</td>\n",
       "      <td>1.015042</td>\n",
       "      <td>0.040917</td>\n",
       "      <td>0.0</td>\n",
       "      <td>0.179324</td>\n",
       "      <td>7.804458</td>\n",
       "      <td>105.513491</td>\n",
       "      <td>99.434963</td>\n",
       "      <td>99.223267</td>\n",
       "      <td>99.130805</td>\n",
       "    </tr>\n",
       "    <tr>\n",
       "      <th>std</th>\n",
       "      <td>57.236771</td>\n",
       "      <td>5.782416</td>\n",
       "      <td>3.580924</td>\n",
       "      <td>0.0</td>\n",
       "      <td>0.0</td>\n",
       "      <td>0.0</td>\n",
       "      <td>0.0</td>\n",
       "      <td>0.0</td>\n",
       "      <td>8331.539842</td>\n",
       "      <td>558.978566</td>\n",
       "      <td>...</td>\n",
       "      <td>1.538357</td>\n",
       "      <td>1.290897</td>\n",
       "      <td>0.198105</td>\n",
       "      <td>0.0</td>\n",
       "      <td>0.642546</td>\n",
       "      <td>5.721589</td>\n",
       "      <td>44.230939</td>\n",
       "      <td>40.501896</td>\n",
       "      <td>40.004760</td>\n",
       "      <td>39.473739</td>\n",
       "    </tr>\n",
       "    <tr>\n",
       "      <th>min</th>\n",
       "      <td>1.000000</td>\n",
       "      <td>0.000000</td>\n",
       "      <td>0.000000</td>\n",
       "      <td>0.0</td>\n",
       "      <td>1.0</td>\n",
       "      <td>80.0</td>\n",
       "      <td>50.0</td>\n",
       "      <td>0.0</td>\n",
       "      <td>640.156167</td>\n",
       "      <td>83.092667</td>\n",
       "      <td>...</td>\n",
       "      <td>0.000000</td>\n",
       "      <td>0.000000</td>\n",
       "      <td>0.000000</td>\n",
       "      <td>0.0</td>\n",
       "      <td>-1.322219</td>\n",
       "      <td>0.000000</td>\n",
       "      <td>32.318157</td>\n",
       "      <td>32.886681</td>\n",
       "      <td>32.340570</td>\n",
       "      <td>30.692352</td>\n",
       "    </tr>\n",
       "    <tr>\n",
       "      <th>25%</th>\n",
       "      <td>9.000000</td>\n",
       "      <td>0.000000</td>\n",
       "      <td>3.000000</td>\n",
       "      <td>0.0</td>\n",
       "      <td>1.0</td>\n",
       "      <td>80.0</td>\n",
       "      <td>50.0</td>\n",
       "      <td>0.0</td>\n",
       "      <td>5507.323917</td>\n",
       "      <td>265.987062</td>\n",
       "      <td>...</td>\n",
       "      <td>0.000000</td>\n",
       "      <td>0.000000</td>\n",
       "      <td>0.000000</td>\n",
       "      <td>0.0</td>\n",
       "      <td>-0.243038</td>\n",
       "      <td>3.000000</td>\n",
       "      <td>74.458502</td>\n",
       "      <td>71.652565</td>\n",
       "      <td>72.058006</td>\n",
       "      <td>72.259452</td>\n",
       "    </tr>\n",
       "    <tr>\n",
       "      <th>50%</th>\n",
       "      <td>17.000000</td>\n",
       "      <td>0.000000</td>\n",
       "      <td>6.000000</td>\n",
       "      <td>0.0</td>\n",
       "      <td>1.0</td>\n",
       "      <td>80.0</td>\n",
       "      <td>50.0</td>\n",
       "      <td>0.0</td>\n",
       "      <td>10177.088958</td>\n",
       "      <td>350.212583</td>\n",
       "      <td>...</td>\n",
       "      <td>0.000000</td>\n",
       "      <td>0.000000</td>\n",
       "      <td>0.000000</td>\n",
       "      <td>0.0</td>\n",
       "      <td>0.000000</td>\n",
       "      <td>7.000000</td>\n",
       "      <td>94.292463</td>\n",
       "      <td>90.074732</td>\n",
       "      <td>89.736319</td>\n",
       "      <td>90.146002</td>\n",
       "    </tr>\n",
       "    <tr>\n",
       "      <th>75%</th>\n",
       "      <td>125.000000</td>\n",
       "      <td>0.000000</td>\n",
       "      <td>9.000000</td>\n",
       "      <td>0.0</td>\n",
       "      <td>1.0</td>\n",
       "      <td>80.0</td>\n",
       "      <td>50.0</td>\n",
       "      <td>0.0</td>\n",
       "      <td>14874.375750</td>\n",
       "      <td>500.020083</td>\n",
       "      <td>...</td>\n",
       "      <td>3.000000</td>\n",
       "      <td>2.000000</td>\n",
       "      <td>0.000000</td>\n",
       "      <td>0.0</td>\n",
       "      <td>0.778151</td>\n",
       "      <td>13.000000</td>\n",
       "      <td>125.926552</td>\n",
       "      <td>116.545651</td>\n",
       "      <td>116.395681</td>\n",
       "      <td>115.647912</td>\n",
       "    </tr>\n",
       "    <tr>\n",
       "      <th>max</th>\n",
       "      <td>133.000000</td>\n",
       "      <td>27.000000</td>\n",
       "      <td>15.000000</td>\n",
       "      <td>0.0</td>\n",
       "      <td>1.0</td>\n",
       "      <td>80.0</td>\n",
       "      <td>50.0</td>\n",
       "      <td>0.0</td>\n",
       "      <td>79145.674583</td>\n",
       "      <td>20817.914875</td>\n",
       "      <td>...</td>\n",
       "      <td>7.000000</td>\n",
       "      <td>6.000000</td>\n",
       "      <td>1.000000</td>\n",
       "      <td>0.0</td>\n",
       "      <td>1.301030</td>\n",
       "      <td>19.000000</td>\n",
       "      <td>403.199657</td>\n",
       "      <td>457.292279</td>\n",
       "      <td>477.650534</td>\n",
       "      <td>411.250352</td>\n",
       "    </tr>\n",
       "  </tbody>\n",
       "</table>\n",
       "<p>8 rows × 37 columns</p>\n",
       "</div>"
      ],
      "text/plain": [
       "       participantN           age        trialN     task  FeatConj  setSize  \\\n",
       "count  12831.000000  12831.000000  12831.000000  12831.0   12831.0  12831.0   \n",
       "mean      56.537994      1.458967      5.911854      0.0       1.0     80.0   \n",
       "std       57.236771      5.782416      3.580924      0.0       0.0      0.0   \n",
       "min        1.000000      0.000000      0.000000      0.0       1.0     80.0   \n",
       "25%        9.000000      0.000000      3.000000      0.0       1.0     80.0   \n",
       "50%       17.000000      0.000000      6.000000      0.0       1.0     80.0   \n",
       "75%      125.000000      0.000000      9.000000      0.0       1.0     80.0   \n",
       "max      133.000000     27.000000     15.000000      0.0       1.0     80.0   \n",
       "\n",
       "       proportion  timelimit        timeTS       timeRel  ...  grouping_same  \\\n",
       "count     12831.0    12831.0  12831.000000  12831.000000  ...   12831.000000   \n",
       "mean         50.0        0.0  11298.114532    466.628504  ...       1.305978   \n",
       "std           0.0        0.0   8331.539842    558.978566  ...       1.538357   \n",
       "min          50.0        0.0    640.156167     83.092667  ...       0.000000   \n",
       "25%          50.0        0.0   5507.323917    265.987062  ...       0.000000   \n",
       "50%          50.0        0.0  10177.088958    350.212583  ...       0.000000   \n",
       "75%          50.0        0.0  14874.375750    500.020083  ...       3.000000   \n",
       "max          50.0        0.0  79145.674583  20817.914875  ...       7.000000   \n",
       "\n",
       "       grouping_switch   strict_line  blocked_grouped         ratio  \\\n",
       "count     12831.000000  12831.000000          12831.0  12831.000000   \n",
       "mean          1.015042      0.040917              0.0      0.179324   \n",
       "std           1.290897      0.198105              0.0      0.642546   \n",
       "min           0.000000      0.000000              0.0     -1.322219   \n",
       "25%           0.000000      0.000000              0.0     -0.243038   \n",
       "50%           0.000000      0.000000              0.0      0.000000   \n",
       "75%           2.000000      0.000000              0.0      0.778151   \n",
       "max           6.000000      1.000000              0.0      1.301030   \n",
       "\n",
       "         run_length       cl_same      cl_other  cl_same_color  cl_same_shape  \n",
       "count  12831.000000  12831.000000  12831.000000   12831.000000   12831.000000  \n",
       "mean       7.804458    105.513491     99.434963      99.223267      99.130805  \n",
       "std        5.721589     44.230939     40.501896      40.004760      39.473739  \n",
       "min        0.000000     32.318157     32.886681      32.340570      30.692352  \n",
       "25%        3.000000     74.458502     71.652565      72.058006      72.259452  \n",
       "50%        7.000000     94.292463     90.074732      89.736319      90.146002  \n",
       "75%       13.000000    125.926552    116.545651     116.395681     115.647912  \n",
       "max       19.000000    403.199657    457.292279     477.650534     411.250352  \n",
       "\n",
       "[8 rows x 37 columns]"
      ]
     },
     "execution_count": 5,
     "metadata": {},
     "output_type": "execute_result"
    }
   ],
   "source": [
    "df_c.describe()"
   ]
  },
  {
   "cell_type": "markdown",
   "metadata": {},
   "source": [
    "# Data preprocessing"
   ]
  },
  {
   "cell_type": "markdown",
   "metadata": {},
   "source": [
    "#### Drop unuseful columns"
   ]
  },
  {
   "cell_type": "code",
   "execution_count": 6,
   "metadata": {},
   "outputs": [
    {
     "data": {
      "text/plain": [
       "array(['participantN', 'age', 'gender', 'trialN', 'task', 'condition',\n",
       "       'FeatConj', 'setSize', 'proportion', 'timelimit', 'stType',\n",
       "       'imgName', 'timeTS', 'timeRel', 'runLength', 'runTest', 'touchTS',\n",
       "       'runN', 'runNH', 'stPosX', 'stPosY', 'col', 'row', 'touchX',\n",
       "       'touchY', 'touchDist', 'targDist', 'touchN', 'error', 'switches',\n",
       "       'changeScreen', 'resp_pos', 'group_selected', 'group_same',\n",
       "       'group_switch', 'strict_line', 'blocked_grouped', 'ratio',\n",
       "       'run_length', 'cl_same', 'cl_other', 'cl_blue', 'cl_yellow'],\n",
       "      dtype=object)"
      ]
     },
     "execution_count": 6,
     "metadata": {},
     "output_type": "execute_result"
    }
   ],
   "source": [
    "df_f.columns = df_f.columns.str.strip()\n",
    "for column in df_f.columns.values:\n",
    "    if df_f[column].dtype == 'object':\n",
    "        df_f[column] = df_f[column].str.strip()\n",
    "df_f.columns.values"
   ]
  },
  {
   "cell_type": "code",
   "execution_count": 7,
   "metadata": {},
   "outputs": [
    {
     "data": {
      "text/plain": [
       "array(['participantN', 'age', 'gender', 'trialN', 'task', 'condition',\n",
       "       'FeatConj', 'setSize', 'proportion', 'timelimit', 'stType',\n",
       "       'imgName', 'timeTS', 'timeRel', 'runLength', 'runTest', 'touchTS',\n",
       "       'runN', 'runNH', 'stPosX', 'stPosY', 'col', 'row', 'touchX',\n",
       "       'touchY', 'touchDist', 'targDist', 'touchN', 'error', 'switches',\n",
       "       'changeScreen', 'resp_pos', 'grouping_selected', 'grouping_same',\n",
       "       'grouping_switch', 'strict_line', 'blocked_grouped', 'ratio',\n",
       "       'run_length', 'cl_same', 'cl_other', 'cl_same_color',\n",
       "       'cl_same_shape'], dtype=object)"
      ]
     },
     "execution_count": 7,
     "metadata": {},
     "output_type": "execute_result"
    }
   ],
   "source": [
    "df_c.columns = df_c.columns.str.strip()\n",
    "for column in df_c.columns.values:\n",
    "    if df_c[column].dtype == 'object':\n",
    "        df_c[column] = df_c[column].str.strip()\n",
    "df_c.columns.values"
   ]
  },
  {
   "cell_type": "code",
   "execution_count": 8,
   "metadata": {},
   "outputs": [
    {
     "data": {
      "text/plain": [
       "array(['targDist', 'switches', 'group_selected', 'group_same',\n",
       "       'group_switch', 'strict_line', 'blocked_grouped', 'ratio',\n",
       "       'run_length', 'cl_same', 'cl_other', 'cl_blue', 'cl_yellow'],\n",
       "      dtype=object)"
      ]
     },
     "execution_count": 8,
     "metadata": {},
     "output_type": "execute_result"
    }
   ],
   "source": [
    "useless_features = ['participantN', 'age', 'gender', 'trialN', 'task', 'condition',\n",
    "                    'FeatConj', 'setSize', 'proportion', 'timelimit', 'stType',\n",
    "                    'imgName', 'timeTS', 'timeRel', 'runLength', 'runTest', \n",
    "                    'touchTS','runN', 'runNH', 'stPosX', 'stPosY', 'col', \n",
    "                    'row', 'touchX', 'touchY', 'touchDist', 'touchN', 'error',\n",
    "                    'changeScreen', 'resp_pos']\n",
    "df_f.drop(columns=useless_features, inplace=True)\n",
    "df_f.columns.values"
   ]
  },
  {
   "cell_type": "code",
   "execution_count": 9,
   "metadata": {},
   "outputs": [
    {
     "data": {
      "text/plain": [
       "array(['targDist', 'switches', 'grouping_selected', 'grouping_same',\n",
       "       'grouping_switch', 'strict_line', 'blocked_grouped', 'ratio',\n",
       "       'run_length', 'cl_same', 'cl_other', 'cl_same_color',\n",
       "       'cl_same_shape'], dtype=object)"
      ]
     },
     "execution_count": 9,
     "metadata": {},
     "output_type": "execute_result"
    }
   ],
   "source": [
    "df_c.drop(columns=useless_features, inplace=True)\n",
    "df_c.columns.values"
   ]
  },
  {
   "cell_type": "markdown",
   "metadata": {},
   "source": [
    "## Train_feat"
   ]
  },
  {
   "cell_type": "code",
   "execution_count": 10,
   "metadata": {},
   "outputs": [],
   "source": [
    "X_f = df_f\n",
    "y_f = df_f['switches'].to_numpy()"
   ]
  },
  {
   "cell_type": "code",
   "execution_count": 21,
   "metadata": {},
   "outputs": [
    {
     "name": "stdout",
     "output_type": "stream",
     "text": [
      "0    8735\n",
      "1    4135\n",
      "Name: 0, dtype: int64\n"
     ]
    }
   ],
   "source": [
    "ycount=pd.DataFrame(y_f)\n",
    "print(ycount[0].value_counts())"
   ]
  },
  {
   "cell_type": "code",
   "execution_count": 12,
   "metadata": {},
   "outputs": [],
   "source": [
    "train_f, test_f, y_train_f, y_test_f = train_test_split(X_f, y_f ,test_size=0.2,random_state=42)"
   ]
  },
  {
   "cell_type": "code",
   "execution_count": 13,
   "metadata": {},
   "outputs": [],
   "source": [
    "# oclf = RandomForestClassifier(max_depth=2, random_state=0).fit(train_f, y_train_f)"
   ]
  },
  {
   "cell_type": "code",
   "execution_count": 14,
   "metadata": {},
   "outputs": [],
   "source": [
    "# ros_f = RandomOverSampler(random_state=0)\n",
    "# train_f, y_train_f = ros_f.fit_resample(train_feat, y_train_feat)\n",
    "# print(\"Number of records for X_train is \", train_feat.shape)\n",
    "# print(\"Number of records for X_resampled oversampling is \",train_f.shape)"
   ]
  },
  {
   "cell_type": "code",
   "execution_count": 15,
   "metadata": {},
   "outputs": [
    {
     "name": "stdout",
     "output_type": "stream",
     "text": [
      "F1 Score for RandomForestClassifier with class_weight parameter is  1.0\n",
      "Accuracy  Score for RandomForestClassifier with class_weight parameter is  1.0\n"
     ]
    }
   ],
   "source": [
    "weighted_clf = RandomForestClassifier(max_depth=2, random_state=0,class_weight={0:1,1:2}).fit(train_f, y_train_f)\n",
    "print(\"F1 Score for RandomForestClassifier with class_weight parameter is \", f1_score(y_test_f,weighted_clf.predict(test_f)))\n",
    "print(\"Accuracy  Score for RandomForestClassifier with class_weight parameter is \", accuracy_score(y_test_f,weighted_clf.predict(test_f)))"
   ]
  },
  {
   "cell_type": "markdown",
   "metadata": {},
   "source": [
    "## Train_conj"
   ]
  },
  {
   "cell_type": "code",
   "execution_count": 22,
   "metadata": {},
   "outputs": [],
   "source": [
    "X_c = df_c\n",
    "y_c = df_c['switches']"
   ]
  },
  {
   "cell_type": "code",
   "execution_count": 24,
   "metadata": {},
   "outputs": [
    {
     "name": "stdout",
     "output_type": "stream",
     "text": [
      "switches\n",
      "0           11884\n",
      "1             947\n",
      "dtype: int64\n"
     ]
    }
   ],
   "source": [
    "ycount1=pd.DataFrame(y_c)\n",
    "print(ycount1.value_counts())"
   ]
  },
  {
   "cell_type": "code",
   "execution_count": 26,
   "metadata": {},
   "outputs": [],
   "source": [
    "train_c, test_c, y_train_c, y_test_c = train_test_split(X_c, y_c, test_size=0.2,random_state=42)"
   ]
  },
  {
   "cell_type": "code",
   "execution_count": 27,
   "metadata": {},
   "outputs": [],
   "source": [
    "# oclf = RandomForestClassifier(max_depth=2, random_state=0).fit(train_c, y_train_c)"
   ]
  },
  {
   "cell_type": "code",
   "execution_count": 28,
   "metadata": {},
   "outputs": [],
   "source": [
    "# ros = RandomOverSampler(random_state=0)\n",
    "# train_c, y_train_c = ros.fit_resample(train_conj, y_train_conj)\n",
    "# print(\"Number of records for X_train is \", train_conj.shape)\n",
    "# print(\"Number of records for X_resampled oversampling is \",train_c.shape)"
   ]
  },
  {
   "cell_type": "code",
   "execution_count": 29,
   "metadata": {},
   "outputs": [
    {
     "name": "stdout",
     "output_type": "stream",
     "text": [
      "F1 Score for RandomForestClassifier with class_weight parameter is  1.0\n",
      "Accuracy  Score for RandomForestClassifier with class_weight parameter is  1.0\n"
     ]
    }
   ],
   "source": [
    "weighted_clf = RandomForestClassifier(max_depth=2, random_state=0,class_weight={0:1,1:18}).fit(train_c, y_train_c)\n",
    "print(\"F1 Score for RandomForestClassifier with class_weight parameter is \", f1_score(y_test_c,weighted_clf.predict(test_c)))\n",
    "print(\"Accuracy  Score for RandomForestClassifier with class_weight parameter is \", accuracy_score(y_test_c,weighted_clf.predict(test_c)))"
   ]
  },
  {
   "cell_type": "markdown",
   "metadata": {},
   "source": [
    "## Feature MultinomalNB"
   ]
  },
  {
   "cell_type": "code",
   "execution_count": 30,
   "metadata": {},
   "outputs": [
    {
     "name": "stderr",
     "output_type": "stream",
     "text": [
      "C:\\Users\\lttso\\miniconda3\\lib\\site-packages\\pandas\\core\\frame.py:4305: SettingWithCopyWarning: \n",
      "A value is trying to be set on a copy of a slice from a DataFrame\n",
      "\n",
      "See the caveats in the documentation: https://pandas.pydata.org/pandas-docs/stable/user_guide/indexing.html#returning-a-view-versus-a-copy\n",
      "  return super().drop(\n"
     ]
    }
   ],
   "source": [
    "train_f.drop(columns='switches', inplace=True)\n",
    "test_f.drop(columns='switches', inplace=True)"
   ]
  },
  {
   "cell_type": "code",
   "execution_count": 31,
   "metadata": {
    "scrolled": false
   },
   "outputs": [
    {
     "name": "stdout",
     "output_type": "stream",
     "text": [
      "[classeval] AUC: 0.51\n",
      "[classeval] F1: 0.05\n",
      "[classeval] Kappa: 0.02\n",
      "[classeval] MCC score: 0.04\n",
      "[classeval] Average precision (AP): 0.32\n",
      "[classeval] CAP: 806\n",
      "Accuracy Score is  0.6826923076923077\n",
      "Avg accuracy: 0.68269372658911\n",
      "Accuracy state 1: 68.93549663632767\n",
      "Accuracy state 0: 44.680851063829785\n"
     ]
    },
    {
     "data": {
      "image/png": "[encoded data removed]",
      "text/plain": [
       "<Figure size 1440x1080 with 4 Axes>"
      ]
     },
     "metadata": {
      "needs_background": "light"
     },
     "output_type": "display_data"
    },
    {
     "name": "stderr",
     "output_type": "stream",
     "text": [
      "C:\\Users\\lttso\\miniconda3\\lib\\site-packages\\pandas\\core\\indexing.py:1636: SettingWithCopyWarning: \n",
      "A value is trying to be set on a copy of a slice from a DataFrame\n",
      "\n",
      "See the caveats in the documentation: https://pandas.pydata.org/pandas-docs/stable/user_guide/indexing.html#returning-a-view-versus-a-copy\n",
      "  self._setitem_single_block(indexer, value, name)\n"
     ]
    },
    {
     "data": {
      "text/plain": [
       "array([[<AxesSubplot:title={'center':'[] Receiver operating characteristic. AUC:0.506'}, xlabel='False Positive Rate', ylabel='True Positive Rate'>,\n",
       "        <AxesSubplot:title={'center':'Cumulitive Accuracy Profile (CAP), score: 806'}, xlabel='Total observations', ylabel='Class observations'>],\n",
       "       [<AxesSubplot:title={'center':'2-class Precision-Recall curve: AP=0.32'}, xlabel='Recall', ylabel='Precision'>,\n",
       "        <AxesSubplot:xlabel='Samples', ylabel='P(class | X)'>]],\n",
       "      dtype=object)"
      ]
     },
     "execution_count": 31,
     "metadata": {},
     "output_type": "execute_result"
    },
    {
     "data": {
      "image/png": "[encoded data removed]",
      "text/plain": [
       "<Figure size 864x864 with 2 Axes>"
      ]
     },
     "metadata": {
      "needs_background": "light"
     },
     "output_type": "display_data"
    },
    {
     "data": {
      "image/png": "[encoded data removed]",
      "text/plain": [
       "<Figure size 432x288 with 1 Axes>"
      ]
     },
     "metadata": {
      "needs_background": "light"
     },
     "output_type": "display_data"
    }
   ],
   "source": [
    "from sklearn.naive_bayes import BernoulliNB\n",
    "model_f = BernoulliNB()\n",
    "model_f.fit(train_f, y_train_f)\n",
    "\n",
    "# Predict Output\n",
    "\n",
    "k = 10\n",
    "kf = KFold(n_splits=k, random_state=None)\n",
    "# Evaluate results\n",
    "result = cross_val_score(model_f , train_f, y_train_f, cv = kf)\n",
    "\n",
    "y_pred_f = model_f.predict(test_f)\n",
    "y_proba = model_f.predict_proba(test_f)\n",
    "results = classeval.eval(y_test_f.astype(bool), y_pred_f.astype(bool), y_proba[:,0])\n",
    "print(\"Accuracy Score is \", model_f.score(train_f, y_train_f))\n",
    "print(\"Avg accuracy: {}\".format(result.mean()))\n",
    "conf_mat = metrics.confusion_matrix(y_test_f, y_pred_f)\n",
    "print('Accuracy state 1:', conf_mat[0, 0] / (conf_mat[0, 0] + conf_mat[1,0])  * 100)\n",
    "print('Accuracy state 0:', conf_mat[1, 1] / (conf_mat[1, 1] + conf_mat[0,1]) * 100)\n",
    "classeval.plot(results)\n"
   ]
  },
  {
   "cell_type": "markdown",
   "metadata": {},
   "source": [
    "## conjunctuin MultinomalNB"
   ]
  },
  {
   "cell_type": "code",
   "execution_count": 32,
   "metadata": {},
   "outputs": [
    {
     "name": "stderr",
     "output_type": "stream",
     "text": [
      "C:\\Users\\lttso\\miniconda3\\lib\\site-packages\\pandas\\core\\frame.py:4305: SettingWithCopyWarning: \n",
      "A value is trying to be set on a copy of a slice from a DataFrame\n",
      "\n",
      "See the caveats in the documentation: https://pandas.pydata.org/pandas-docs/stable/user_guide/indexing.html#returning-a-view-versus-a-copy\n",
      "  return super().drop(\n"
     ]
    }
   ],
   "source": [
    "train_c.drop(columns='switches', inplace=True)\n",
    "test_c.drop(columns='switches', inplace=True)"
   ]
  },
  {
   "cell_type": "code",
   "execution_count": 33,
   "metadata": {
    "scrolled": false
   },
   "outputs": [
    {
     "name": "stdout",
     "output_type": "stream",
     "text": [
      "[classeval] AUC: 0.51\n",
      "[classeval] F1: 0.05\n",
      "[classeval] Kappa: 0.03\n",
      "[classeval] MCC score: 0.04\n",
      "[classeval] Average precision (AP): 0.08\n",
      "[classeval] CAP: 201\n",
      "Accuracy Score is  0.9273187840997662\n",
      "Avg accuracy: 0.68269372658911\n",
      "Accuracy state 1: 92.2955353615172\n",
      "Accuracy state 0: 16.666666666666664\n"
     ]
    },
    {
     "data": {
      "image/png": "[encoded data removed]",
      "text/plain": [
       "<Figure size 1440x1080 with 4 Axes>"
      ]
     },
     "metadata": {
      "needs_background": "light"
     },
     "output_type": "display_data"
    },
    {
     "name": "stderr",
     "output_type": "stream",
     "text": [
      "C:\\Users\\lttso\\miniconda3\\lib\\site-packages\\pandas\\core\\indexing.py:1636: SettingWithCopyWarning: \n",
      "A value is trying to be set on a copy of a slice from a DataFrame\n",
      "\n",
      "See the caveats in the documentation: https://pandas.pydata.org/pandas-docs/stable/user_guide/indexing.html#returning-a-view-versus-a-copy\n",
      "  self._setitem_single_block(indexer, value, name)\n"
     ]
    },
    {
     "data": {
      "text/plain": [
       "array([[<AxesSubplot:title={'center':'[] Receiver operating characteristic. AUC:0.509'}, xlabel='False Positive Rate', ylabel='True Positive Rate'>,\n",
       "        <AxesSubplot:title={'center':'Cumulitive Accuracy Profile (CAP), score: 201'}, xlabel='Total observations', ylabel='Class observations'>],\n",
       "       [<AxesSubplot:title={'center':'2-class Precision-Recall curve: AP=0.08'}, xlabel='Recall', ylabel='Precision'>,\n",
       "        <AxesSubplot:xlabel='Samples', ylabel='P(class | X)'>]],\n",
       "      dtype=object)"
      ]
     },
     "execution_count": 33,
     "metadata": {},
     "output_type": "execute_result"
    },
    {
     "data": {
      "image/png": "[encoded data removed]",
      "text/plain": [
       "<Figure size 864x864 with 2 Axes>"
      ]
     },
     "metadata": {
      "needs_background": "light"
     },
     "output_type": "display_data"
    },
    {
     "data": {
      "image/png": "[encoded data removed]",
      "text/plain": [
       "<Figure size 432x288 with 1 Axes>"
      ]
     },
     "metadata": {
      "needs_background": "light"
     },
     "output_type": "display_data"
    }
   ],
   "source": [
    "model_c = BernoulliNB()\n",
    "model_c.fit(train_c, y_train_c)\n",
    "\n",
    "# Predict Output\n",
    "k = 10\n",
    "kf = KFold(n_splits=k, random_state=None)\n",
    "# Evaluate results\n",
    "cross_val_score(model_c , train_c, y_train_c, cv = kf)\n",
    "y_pred_c = model_f.predict(test_c)\n",
    "y_proba = model_f.predict_proba(test_c)\n",
    "results = classeval.eval(y_test_c.astype(bool), y_pred_c.astype(bool), y_proba[:,0])\n",
    "print(\"Accuracy Score is \", model_c.score(train_c, y_train_c))\n",
    "print(\"Avg accuracy: {}\".format(result.mean()))\n",
    "conf_mat = metrics.confusion_matrix(y_pred_c, y_test_c)\n",
    "print('Accuracy state 1:', conf_mat[0, 0] / (conf_mat[0, 0] + conf_mat[0 ,1])  * 100)\n",
    "print('Accuracy state 0:', conf_mat[1, 1] / (conf_mat[1, 0] + conf_mat[1, 1]) * 100)\n",
    "conf_mat[0, 0] + conf_mat[0 ,1]\n",
    "classeval.plot(results)"
   ]
  },
  {
   "cell_type": "code",
   "execution_count": null,
   "metadata": {},
   "outputs": [],
   "source": [
    "from sklearn.naive_bayes import GaussianNB\n",
    "model_c_g = GaussianNB()\n",
    "model_c_g.fit(train_c, y_train_c)\n",
    "\n",
    "# Predict Output\n",
    "k = 10\n",
    "kf = KFold(n_splits=k, random_state=None)\n",
    "# Evaluate results\n",
    "cross_val_score(model_c_g , train_c, y_train_c, cv = kf)\n",
    "\n",
    "y_pred_c = model_f.predict(test_c)\n",
    "y_proba = model_f.predict_proba(test_c)\n",
    "results = classeval.eval(y_test_c.astype(bool), y_pred_c.astype(bool), y_proba[:,0])\n",
    "print(\"Accuracy Score is \", model_c_g.score(train_c, y_train_c))\n",
    "print(\"Avg accuracy: {}\".format(result.mean()))\n",
    "conf_mat = metrics.confusion_matrix(y_pred_c, y_test_c)\n",
    "print('Accuracy state 1:', conf_mat[0, 0] / (conf_mat[0, 0] + conf_mat[0 ,1])  * 100)\n",
    "print('Accuracy state 0:', conf_mat[1, 1] / (conf_mat[1, 0] + conf_mat[1, 1]) * 100)\n",
    "conf_mat[0, 0] + conf_mat[0 ,1]\n",
    "classeval.plot(results)"
   ]
  },
  {
   "cell_type": "code",
   "execution_count": null,
   "metadata": {},
   "outputs": [],
   "source": []
  },
  {
   "cell_type": "code",
   "execution_count": null,
   "metadata": {},
   "outputs": [],
   "source": []
  },
  {
   "cell_type": "code",
   "execution_count": null,
   "metadata": {},
   "outputs": [],
   "source": []
  }
 ],
 "metadata": {
  "kernelspec": {
   "display_name": "Python 3",
   "language": "python",
   "name": "python3"
  },
  "language_info": {
   "codemirror_mode": {
    "name": "ipython",
    "version": 3
   },
   "file_extension": ".py",
   "mimetype": "text/x-python",
   "name": "python",
   "nbconvert_exporter": "python",
   "pygments_lexer": "ipython3",
   "version": "3.8.5"
  }
 },
 "nbformat": 4,
 "nbformat_minor": 4
}
